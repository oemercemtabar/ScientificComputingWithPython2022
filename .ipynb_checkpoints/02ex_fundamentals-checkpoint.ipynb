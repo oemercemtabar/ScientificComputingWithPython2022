{
 "cells": [
  {
   "cell_type": "markdown",
   "metadata": {},
   "source": [
    "You can solve these exercises in the room or at home. For this week, and the next 3 weeks, exercises have to be solved by creating a dedicated `.py` file (or files) called `02ex_fundamentals.py`.\n",
    "\n",
    "In case you need multiple files, name them `02ex_fundamentals_es01.py`, `02ex_fundamentals_es02.py` and so on. In this case, it's convenient to create a dedicated directory, to be named `02ex_fundamentals`. \n",
    "\n",
    "The exercises need to run without errors with `python3`."
   ]
  },
  {
   "cell_type": "markdown",
   "metadata": {},
   "source": [
    "1\\. **Global variables**\n",
    "\n",
    "Convert the function $f$ into a function that doesn't use global variables and that does not modify the original list"
   ]
  },
  {
   "cell_type": "code",
   "execution_count": 6,
   "metadata": {},
   "outputs": [
    {
     "name": "stdout",
     "output_type": "stream",
     "text": [
      "[1, 2, 3, 0, 1, 2, 3, 4]\n",
      "[1, 2, 3]\n"
     ]
    }
   ],
   "source": [
    "x = 5\n",
    "def f(alist):\n",
    "    temporary = x\n",
    "    blist = [element for element in alist]\n",
    "    for i in range(temporary):\n",
    "        blist.append(i)\n",
    "    return blist\n",
    "\n",
    "alist = [1, 2, 3] \n",
    "ans = f(alist)\n",
    "print(ans)\n",
    "print(alist) # alist has been changed"
   ]
  },
  {
   "cell_type": "markdown",
   "metadata": {},
   "source": [
    "2\\. **List comprehension**\n",
    "\n",
    "Write the following expression using a list comprehension:\n",
    "\n",
    "`ans = list(map(lambda x: x * x, filter(lambda x: x % 2 == 1, range(10)))`"
   ]
  },
  {
   "cell_type": "code",
   "execution_count": 1,
   "metadata": {},
   "outputs": [
    {
     "name": "stdout",
     "output_type": "stream",
     "text": [
      "[1, 9, 25, 49, 81]\n"
     ]
    }
   ],
   "source": [
    "ans = [x ** 2 for x in range(10) if x%2 == 1]\n",
    "print(ans)"
   ]
  },
  {
   "cell_type": "markdown",
   "metadata": {},
   "source": [
    "3\\. **Filter list**\n",
    "\n",
    "Using the `filter()` hof, define a function that takes a list of words and an integer `n` as arguments, and returns a list of words that are shorter than `n`."
   ]
  },
  {
   "cell_type": "code",
   "execution_count": 2,
   "metadata": {},
   "outputs": [
    {
     "name": "stdout",
     "output_type": "stream",
     "text": [
      "['is', 'a']\n"
     ]
    }
   ],
   "source": [
    "example_word_list = ['This', 'is', 'a', 'string', 'with', 'words']\n",
    "\n",
    "def ShorterWordsInTheList(lst,n):\n",
    "    return list(filter(lambda x: len(x) < n ,lst))\n",
    "\n",
    "filteredList = ShorterWordsInTheList(example_word_list,3)\n",
    "print(filteredList)"
   ]
  },
  {
   "cell_type": "markdown",
   "metadata": {},
   "source": [
    "4\\. **Map dictionary**\n",
    "\n",
    "\n",
    "Consider the following dictionary:\n",
    "\n",
    "`lang = {\"Python\" : 3, \"Java\" : '', \"Cplusplus\" : 'test', \"Php\" : 0.7}`\n",
    "\n",
    "Write a function that takes the above dictionary and uses the `map()` higher order function to return a list that contains the length of the keys of the dictionary."
   ]
  },
  {
   "cell_type": "code",
   "execution_count": 3,
   "metadata": {},
   "outputs": [
    {
     "name": "stdout",
     "output_type": "stream",
     "text": [
      "[6, 4, 9, 3]\n"
     ]
    }
   ],
   "source": [
    "def LengthCalculation(x):\n",
    "    lengthList = list(map(lambda length: len(length),x.keys()))\n",
    "    return lengthList\n",
    "\n",
    "lang = {\"Python\" : 3, \"Java\" : '', \"Cplusplus\" : 'test', \"Php\" : 0.7}\n",
    "lst = LengthCalculation(lang)\n",
    "print(lst)"
   ]
  },
  {
   "cell_type": "markdown",
   "metadata": {},
   "source": [
    "5\\. **Lambda functions**\n",
    "\n",
    "Write a Python program that sorts the following list of tuples using a lambda function, according to the alphabetical order of the first element of the tuple:\n",
    "\n",
    "`language_scores = [('Python', 97), ('Cplusplus', 81), ('Php', 45), ('Java', 32)]`\n",
    "\n",
    "*Hint*: use the method `sort()` and its argument `key` of the `list` data structure."
   ]
  },
  {
   "cell_type": "code",
   "execution_count": 4,
   "metadata": {
    "scrolled": true
   },
   "outputs": [
    {
     "name": "stdout",
     "output_type": "stream",
     "text": [
      "[('Cplusplus', 81), ('Java', 32), ('Php', 45), ('Python', 97)]\n"
     ]
    }
   ],
   "source": [
    "language_scores = [('Python', 97), ('Cplusplus', 81), ('Php', 45), ('Java', 32)]\n",
    "language_scores.sort(key = lambda tuple:tuple[0])\n",
    "print(language_scores)"
   ]
  },
  {
   "cell_type": "markdown",
   "metadata": {},
   "source": [
    "6\\. **Nested functions**\n",
    "\n",
    "Write two functions: one that returns the square of a number, and one that returns its cube.\n",
    "\n",
    "Then, write a third function that returns the number raised to the 6th power, using only the two previous functions."
   ]
  },
  {
   "cell_type": "code",
   "execution_count": 5,
   "metadata": {},
   "outputs": [
    {
     "name": "stdout",
     "output_type": "stream",
     "text": [
      "15625\n"
     ]
    }
   ],
   "source": [
    "def ReturnSquare(a):\n",
    "    return a**2\n",
    "\n",
    "def ReturnCube(a):\n",
    "    return a**3\n",
    "\n",
    "def ReturnSixth(a):\n",
    "    return ReturnCube(ReturnSquare(a))\n",
    "\n",
    "print(ReturnSixth(5))\n"
   ]
  },
  {
   "cell_type": "markdown",
   "metadata": {},
   "source": [
    "7\\. **Decorators**\n",
    "\n",
    "Write a decorator named `hello` that makes every wrapped function print “Hello World!” each time the function is called.\n",
    "\n",
    "The wrapped function should look like:\n",
    "\n",
    "```python\n",
    "@hello\n",
    "def square(x):\n",
    "    return x*x\n",
    "```"
   ]
  },
  {
   "cell_type": "code",
   "execution_count": 6,
   "metadata": {},
   "outputs": [],
   "source": [
    "def hello(func):\n",
    "    def wrapper(a):\n",
    "        result = func(a)\n",
    "        print(\"Hello World!\")\n",
    "    return wrapper\n",
    "\n",
    "\n",
    "@hello\n",
    "def square(x):\n",
    "    return x*x\n",
    "\n",
    "square = hello(square)"
   ]
  },
  {
   "cell_type": "code",
   "execution_count": 7,
   "metadata": {},
   "outputs": [
    {
     "name": "stdout",
     "output_type": "stream",
     "text": [
      "Hello World!\n",
      "Hello World!\n"
     ]
    }
   ],
   "source": [
    "square(5)"
   ]
  },
  {
   "cell_type": "markdown",
   "metadata": {},
   "source": [
    "8\\. **The Fibonacci sequence (part 2)**\n",
    "\n",
    "Calculate the first 20 numbers of the [Fibonacci sequence](https://en.wikipedia.org/wiki/Fibonacci_number) using a recursive function."
   ]
  },
  {
   "cell_type": "code",
   "execution_count": 15,
   "metadata": {},
   "outputs": [
    {
     "name": "stdout",
     "output_type": "stream",
     "text": [
      "[0, 1, 1, 2, 3, 5, 8, 13, 21, 34, 55, 89, 144, 233, 377, 610, 987, 1597, 2584, 4181]\n"
     ]
    }
   ],
   "source": [
    "def recursiveFibonacci(n):\n",
    "    if n == 0:  #First element of the Fibonacci Sequence (Zeroth Case)\n",
    "        return n\n",
    "    elif n == 1: #Second element of the Fibonacci Sequence (First Case)\n",
    "        return n\n",
    "    else: # Recursively call the rest, calculate and return\n",
    "        return recursiveFibonacci(n - 1) + recursiveFibonacci(n - 2)\n",
    "\n",
    "recursiveFibonacci = [recursiveFibonacci(n) for n in range(20)]\n",
    "print(recursiveFibonacci)\n"
   ]
  },
  {
   "cell_type": "markdown",
   "metadata": {},
   "source": [
    "9\\. **The Fibonacci sequence (part 3)**\n",
    "\n",
    "Run both the Fibonacci recursive function from the previous exercise, and the Fibonacci function from 01ex that use only `for` and `while` loops.\n",
    "\n",
    "Measure the execution code of the two functions with `timeit` ([link to the doc](https://docs.python.org/3/library/timeit.html)), for example:\n",
    "\n",
    "`%timeit loopFibonacci(20)`\n",
    "\n",
    "`%timeit recursiveFibonacci(20)`\n",
    "\n",
    "which one is the most efficient implementation? By how much?"
   ]
  },
  {
   "cell_type": "code",
   "execution_count": 5,
   "metadata": {},
   "outputs": [
    {
     "name": "stdout",
     "output_type": "stream",
     "text": [
      "5.68 µs ± 18.7 ns per loop (mean ± std. dev. of 7 runs, 100,000 loops each)\n"
     ]
    }
   ],
   "source": [
    "def loopFibonacci(n):\n",
    "    FibonacciNumbers = []\n",
    "    counter = 0\n",
    "    while counter < n:\n",
    "        if counter == 0:\n",
    "            FibonacciNumbers.append(counter)\n",
    "            counter += 1\n",
    "        elif counter == 1:\n",
    "            FibonacciNumbers.append(counter)\n",
    "            counter += 1\n",
    "        else:\n",
    "            FibonacciNumbers.append(FibonacciNumbers[counter-2] + FibonacciNumbers[counter-1])\n",
    "            counter += 1\n",
    "    return FibonacciNumbers\n",
    "\n",
    "%timeit loopFibonacci(20)"
   ]
  },
  {
   "cell_type": "code",
   "execution_count": 18,
   "metadata": {},
   "outputs": [
    {
     "name": "stdout",
     "output_type": "stream",
     "text": [
      "3.45 ms ± 5.69 µs per loop (mean ± std. dev. of 7 runs, 100 loops each)\n"
     ]
    }
   ],
   "source": [
    "def recursiveFibonacci(n):\n",
    "    if n == 0:  #First element of the Fibonacci Sequence (Zeroth Case)\n",
    "        return n\n",
    "    elif n == 1: #Second element of the Fibonacci Sequence (First Case)\n",
    "        return n\n",
    "    else: # Recursively call the rest, calculate and return\n",
    "        return recursiveFibonacci(n - 1) + recursiveFibonacci(n - 2)\n",
    "\n",
    "recursive = [recursiveFibonacci(n) for n in range(20)]\n",
    "%timeit recursiveFibonacci(20)"
   ]
  },
  {
   "cell_type": "markdown",
   "metadata": {},
   "source": [
    "10\\. **Class definition**\n",
    "\n",
    "Define a class `polygon`. The constructor has to take a tuple as input that contains the length of each side. The (unordered) input list does not have to have a fixed length, but should contain at least 3 items.\n",
    "\n",
    "- Create appropriate methods to get and set the length of each side\n",
    "\n",
    "- Create a method `perimeter()` that returns the perimeter of the polygon\n",
    "\n",
    "- Create a method `getOrderedSides(increasing = True)` that returns a tuple containing the length of the sides arranged in increasing or decreasing order, depending on the argument of the method\n",
    "\n",
    "Test the class by creating an instance and calling the `perimeter()` and `getOrderedSides(increasing = True)` methods."
   ]
  },
  {
   "cell_type": "code",
   "execution_count": 87,
   "metadata": {},
   "outputs": [],
   "source": [
    "# Class definition\n",
    "import math\n",
    "\n",
    "class polygon:\n",
    "    # Definition of the class attributes, which are common for all instances of the same class\n",
    "    #In our case only attribute is a tuple that contains the length of the sides of the polygon\n",
    "    sideLengths = ()\n",
    "    \n",
    "    # Definition of the Constructor, a special method that is called every time a new object is created\n",
    "    # The first argument of the constructor (and also for all other methods in the class) is the instance itself\n",
    "    def __init__(pol, lengthTuple):\n",
    "        pol.sideLenghts = lengthTuple\n",
    "        \n",
    "        \n",
    "    # Definition of the methods\n",
    "    \n",
    "    # This method allows to get the length of each side that attribute 'sideLenghts'\n",
    "    def getLength(pol, index): \n",
    "        return pol.sideLenghts[index]\n",
    "    \n",
    "    # This method allows to set the length of each side that attribute 'sideLenghts'\n",
    "    def setValue(pol, index, value):\n",
    "        new_list = list(pol.sideLenghts)\n",
    "        new_list[index] = value\n",
    "        sideLengths = tuple(new_list)\n",
    "        return sideLengths\n",
    "    \n",
    "    # This method allows to return the perimeter of the polygon\n",
    "    def perimeter(pol): \n",
    "        perimeter = 0\n",
    "        for lenght in pol.sideLenghts:\n",
    "            perimeter += lenght\n",
    "        return perimeter\n",
    "    \n",
    "    # This method allows to return the ordered list of the attribute 'sideLenghts'\n",
    "    def getOrderedSides(pol,increasing): \n",
    "        if increasing == True:\n",
    "            new_list = [element for element in pol.sideLenghts]\n",
    "            new_list.sort()\n",
    "            tuple_list = tuple(new_list)\n",
    "            return tuple_list\n",
    "        else:\n",
    "            new_list = [element for element in pol.sideLenghts]\n",
    "            new_list.sort(reverse = True)\n",
    "            tuple_list = tuple(new_list)\n",
    "            return tuple_list\n",
    "\n",
    "# End of the class definition\n",
    "\n"
   ]
  },
  {
   "cell_type": "code",
   "execution_count": 88,
   "metadata": {},
   "outputs": [
    {
     "name": "stdout",
     "output_type": "stream",
     "text": [
      "Perimeter of the polygon is: 57\n",
      "Side Lengths of the polygon in increasing order: (5, 6, 7, 8, 12, 19)\n",
      "Side Lengths of the polygon in decreasing order: (19, 12, 8, 7, 6, 5)\n"
     ]
    }
   ],
   "source": [
    "a = polygon((5,8,12,6,7,19))\n",
    "print(\"Perimeter of the polygon is: \" + str(a.perimeter()))\n",
    "print(\"Side Lengths of the polygon in increasing order: \" + str(a.getOrderedSides(increasing=True)))\n",
    "print(\"Side Lengths of the polygon in decreasing order: \" + str(a.getOrderedSides(increasing=False)))\n",
    "\n"
   ]
  },
  {
   "cell_type": "markdown",
   "metadata": {},
   "source": [
    "11\\. **Class inheritance**\n",
    "\n",
    "Define a class `rectangle` that inherits from `polygon`. Modify the constructor, if necessary, to make sure that the input data is consistent with the geometrical properties of a rectangle.\n",
    "\n",
    "- Create a method `area()` that returns the area of the rectangle.\n",
    "\n",
    "Test the `rectangle` class by creating an instance and passing an appropriate input to the constructor."
   ]
  },
  {
   "cell_type": "code",
   "execution_count": 92,
   "metadata": {},
   "outputs": [],
   "source": [
    "class rectangle(polygon): \n",
    "    \n",
    "    # The constructor here is optional, and can be inherited from the parent class if omitted\n",
    "    def __init__(rec, sides):\n",
    "        if len(sides) == 4:\n",
    "            rec.sideLengths = sides # a list is expected as input\n",
    "        else:\n",
    "            print(\"Error: number of components is not 4\")\n",
    "    def area(rec):\n",
    "        return (rec.sideLengths[0] * rec.sideLengths[1])\n"
   ]
  },
  {
   "cell_type": "code",
   "execution_count": 93,
   "metadata": {},
   "outputs": [
    {
     "name": "stdout",
     "output_type": "stream",
     "text": [
      "25\n"
     ]
    }
   ],
   "source": [
    "b = rectangle((5,5,5,5))    \n",
    "\n",
    "b_area = b.area()\n",
    "print(b_area)"
   ]
  }
 ],
 "metadata": {
  "kernelspec": {
   "display_name": "Python 3 (ipykernel)",
   "language": "python",
   "name": "python3"
  },
  "language_info": {
   "codemirror_mode": {
    "name": "ipython",
    "version": 3
   },
   "file_extension": ".py",
   "mimetype": "text/x-python",
   "name": "python",
   "nbconvert_exporter": "python",
   "pygments_lexer": "ipython3",
   "version": "3.9.12"
  }
 },
 "nbformat": 4,
 "nbformat_minor": 2
}
