{
 "cells": [
  {
   "cell_type": "markdown",
   "id": "395294e1-4e00-44ae-888d-56c496b01386",
   "metadata": {},
   "source": [
    "1\\. **Global variables**\n"
   ]
  },
  {
   "cell_type": "code",
   "execution_count": 1,
   "id": "714fee62-4ac8-4257-afe5-6d5c4bf56040",
   "metadata": {},
   "outputs": [
    {
     "name": "stdout",
     "output_type": "stream",
     "text": [
      "[1, 2, 3, 0, 1, 2, 3, 4]\n",
      "[1, 2, 3]\n"
     ]
    }
   ],
   "source": [
    "x = 5\n",
    "def f(alist):\n",
    "    temporary = x\n",
    "    a_copy_list = [element for element in alist]\n",
    "    for i in range(temporary):\n",
    "        a_copy_list.append(i)\n",
    "    return a_copy_list\n",
    "\n",
    "alist = [1, 2, 3] \n",
    "ans = f(alist)\n",
    "print(ans)\n",
    "print(alist) # alist has been changed"
   ]
  },
  {
   "cell_type": "markdown",
   "id": "0efacc03-7896-4a61-bda9-c2204a2cdd0d",
   "metadata": {},
   "source": [
    "2\\. **List comprehension**\n"
   ]
  },
  {
   "cell_type": "code",
   "execution_count": 2,
   "id": "69965880-4ba6-4264-87ea-b4838a37d6b1",
   "metadata": {},
   "outputs": [
    {
     "name": "stdout",
     "output_type": "stream",
     "text": [
      "[1, 9, 25, 49, 81]\n"
     ]
    }
   ],
   "source": [
    "#`ans = list(map(lambda x: x * x, filter(lambda x: x % 2 == 1, range(10)))`\n",
    "ans = [x ** 2 for x in range(10) if x%2 == 1]\n",
    "print(ans)"
   ]
  },
  {
   "cell_type": "markdown",
   "id": "6382e7b1-7189-4a27-8bf2-38a2972ef638",
   "metadata": {},
   "source": [
    "3\\. **Filter list**\n"
   ]
  },
  {
   "cell_type": "code",
   "execution_count": 3,
   "id": "bc33bd86-dbd2-4fae-b1c0-f41844d2230a",
   "metadata": {},
   "outputs": [
    {
     "name": "stdout",
     "output_type": "stream",
     "text": [
      "['is', 'a']\n"
     ]
    }
   ],
   "source": [
    "example_word_list = ['This', 'is', 'a', 'string', 'with', 'words']\n",
    "\n",
    "def ShorterWordsInTheList(lst,n):\n",
    "    return list(filter(lambda x: len(x) < n ,lst))\n",
    "\n",
    "filteredList = ShorterWordsInTheList(example_word_list,3)\n",
    "print(filteredList)"
   ]
  },
  {
   "cell_type": "markdown",
   "id": "6f97473d-617c-409d-92cb-10387e48698a",
   "metadata": {},
   "source": [
    "4\\. **Map dictionary**\n"
   ]
  },
  {
   "cell_type": "code",
   "execution_count": 4,
   "id": "a95bcae2-f010-451f-91f6-1b7c4446eda0",
   "metadata": {},
   "outputs": [
    {
     "name": "stdout",
     "output_type": "stream",
     "text": [
      "[6, 4, 9, 3]\n"
     ]
    }
   ],
   "source": [
    "def LengthCalculation(x):\n",
    "    lengthList = list(map(lambda length: len(length),x.keys()))\n",
    "    return lengthList\n",
    "\n",
    "lang = {\"Python\" : 3, \"Java\" : '', \"Cplusplus\" : 'test', \"Php\" : 0.7}\n",
    "lst = LengthCalculation(lang)\n",
    "print(lst)"
   ]
  },
  {
   "cell_type": "markdown",
   "id": "2a22d09e-a392-4cb5-9738-96e7c8df3267",
   "metadata": {},
   "source": [
    "5\\. **Lambda functions**\n"
   ]
  },
  {
   "cell_type": "code",
   "execution_count": 5,
   "id": "7aaca3c6-61ac-4bd8-b604-880921b6f168",
   "metadata": {},
   "outputs": [
    {
     "name": "stdout",
     "output_type": "stream",
     "text": [
      "[('Cplusplus', 81), ('Java', 32), ('Php', 45), ('Python', 97)]\n"
     ]
    }
   ],
   "source": [
    "language_scores = [('Python', 97), ('Cplusplus', 81), ('Php', 45), ('Java', 32)]\n",
    "language_scores.sort(key = lambda tuple:tuple[0])\n",
    "print(language_scores)"
   ]
  },
  {
   "cell_type": "markdown",
   "id": "7dee9336-7473-4044-a689-f1bdd4176d1f",
   "metadata": {},
   "source": [
    "6\\. **Nested functions**\n"
   ]
  },
  {
   "cell_type": "code",
   "execution_count": 6,
   "id": "e9ce0fc7-2e72-4e21-8922-cae5791323fe",
   "metadata": {},
   "outputs": [
    {
     "name": "stdout",
     "output_type": "stream",
     "text": [
      "15625\n"
     ]
    }
   ],
   "source": [
    "def ReturnSquare(a):\n",
    "    return a**2\n",
    "\n",
    "def ReturnCube(a):\n",
    "    return a**3\n",
    "\n",
    "def ReturnSixth(a):\n",
    "    return ReturnCube(ReturnSquare(a))\n",
    "\n",
    "print(ReturnSixth(5))\n"
   ]
  },
  {
   "cell_type": "markdown",
   "id": "60e2eec6-d2cc-4966-9a57-050202aeb07f",
   "metadata": {},
   "source": [
    "7\\. **Decorators**\n"
   ]
  },
  {
   "cell_type": "code",
   "execution_count": 9,
   "id": "1b92d5c2-62d0-4d5c-8747-0bae82a64d7a",
   "metadata": {},
   "outputs": [
    {
     "name": "stdout",
     "output_type": "stream",
     "text": [
      "Hello World!\n",
      "Hello World!\n"
     ]
    }
   ],
   "source": [
    "def hello(func):\n",
    "    def wrapper(a):\n",
    "        result = func(a)\n",
    "        print(\"Hello World!\")\n",
    "    return wrapper\n",
    "\n",
    "\n",
    "@hello\n",
    "def square(x):\n",
    "    return x*x\n",
    "\n",
    "square = hello(square)\n",
    "square(5)"
   ]
  },
  {
   "cell_type": "markdown",
   "id": "3ae098ff-d231-4554-9673-53d61f4e6a71",
   "metadata": {},
   "source": [
    "8\\. **The Fibonacci sequence (part 2)**\n"
   ]
  },
  {
   "cell_type": "code",
   "execution_count": 19,
   "id": "af5756a8-555d-4d10-aa5a-4e0fe46256a9",
   "metadata": {},
   "outputs": [
    {
     "name": "stdout",
     "output_type": "stream",
     "text": [
      "[0, 1, 1, 2, 3, 5, 8, 13, 21, 34, 55, 89, 144, 233, 377, 610, 987, 1597, 2584, 4181]\n"
     ]
    }
   ],
   "source": [
    "def recursiveFibonacci(n):\n",
    "    if n == 0:  #First element of the Fibonacci Sequence (Zeroth Case)\n",
    "        return n\n",
    "    elif n == 1: #Second element of the Fibonacci Sequence (First Case)\n",
    "        return n\n",
    "    else: # Recursively call the rest, calculate and return\n",
    "        return recursiveFibonacci(n - 1) + recursiveFibonacci(n - 2)\n",
    "\n",
    "recursiveFibonacci = [recursiveFibonacci(n) for n in range(20)]\n",
    "print(recursiveFibonacci)\n"
   ]
  },
  {
   "cell_type": "markdown",
   "id": "027d5bd8-4cfd-4520-961b-0f67cf18816d",
   "metadata": {},
   "source": [
    "9\\. **The Fibonacci sequence (part 3)**\n"
   ]
  },
  {
   "cell_type": "code",
   "execution_count": 20,
   "id": "c36e39b4-8712-4368-8d4e-a9434c3e1849",
   "metadata": {},
   "outputs": [
    {
     "name": "stdout",
     "output_type": "stream",
     "text": [
      "5.66 µs ± 11.4 ns per loop (mean ± std. dev. of 7 runs, 100,000 loops each)\n"
     ]
    }
   ],
   "source": [
    "def loopFibonacci(n):\n",
    "    FibonacciNumbers = []\n",
    "    counter = 0\n",
    "    while counter < n:\n",
    "        if counter == 0:\n",
    "            FibonacciNumbers.append(counter)\n",
    "            counter += 1\n",
    "        elif counter == 1:\n",
    "            FibonacciNumbers.append(counter)\n",
    "            counter += 1\n",
    "        else:\n",
    "            FibonacciNumbers.append(FibonacciNumbers[counter-2] + FibonacciNumbers[counter-1])\n",
    "            counter += 1\n",
    "    return FibonacciNumbers\n",
    "\n",
    "%timeit loopFibonacci(20)"
   ]
  },
  {
   "cell_type": "code",
   "execution_count": 21,
   "id": "82ce2471-7723-46d3-a35f-ce7d779dafe1",
   "metadata": {},
   "outputs": [
    {
     "name": "stdout",
     "output_type": "stream",
     "text": [
      "3.47 ms ± 7.12 µs per loop (mean ± std. dev. of 7 runs, 100 loops each)\n"
     ]
    }
   ],
   "source": [
    "def recursiveFibonacci(n):\n",
    "    if n == 0:  #First element of the Fibonacci Sequence (Zeroth Case)\n",
    "        return n\n",
    "    elif n == 1: #Second element of the Fibonacci Sequence (First Case)\n",
    "        return n\n",
    "    else: # Recursively call the rest, calculate and return\n",
    "        return recursiveFibonacci(n - 1) + recursiveFibonacci(n - 2)\n",
    "\n",
    "recursive = [recursiveFibonacci(n) for n in range(20)]\n",
    "%timeit recursiveFibonacci(20)"
   ]
  },
  {
   "cell_type": "markdown",
   "id": "c001cfa9-d58d-4549-bbf3-153d8b9933ae",
   "metadata": {},
   "source": [
    "10\\. **Class definition**\n"
   ]
  },
  {
   "cell_type": "code",
   "execution_count": 22,
   "id": "e81167d4-85cf-4c0b-b3d8-b16f15f5ffa1",
   "metadata": {},
   "outputs": [],
   "source": [
    "# Class definition\n",
    "import math\n",
    "\n",
    "class polygon:\n",
    "    # Definition of the class attributes, which are common for all instances of the same class\n",
    "    #In our case only attribute is a tuple that contains the length of the sides of the polygon\n",
    "    sideLengths = ()\n",
    "    \n",
    "    # Definition of the Constructor, a special method that is called every time a new object is created\n",
    "    # The first argument of the constructor (and also for all other methods in the class) is the instance itself\n",
    "    def __init__(pol, lengthTuple):\n",
    "        pol.sideLenghts = lengthTuple\n",
    "        \n",
    "        \n",
    "    # Definition of the methods\n",
    "    \n",
    "    # This method allows to get the length of a side with a specific index that attribute 'sideLenghts'\n",
    "    def GetLengthOfASide(pol, index): \n",
    "        return pol.sideLenghts[index]\n",
    "    \n",
    "    # This method allows to get the length of all sides that attribute 'sideLenghts'\n",
    "    def GetLengthOfAllSides(pol): \n",
    "        return pol.sideLenghts\n",
    "    \n",
    "    # This method allows to set the length of each side that attribute 'sideLenghts'\n",
    "    def setValue(pol, index, value):\n",
    "        new_list = list(pol.sideLenghts)\n",
    "        new_list[index] = value\n",
    "        sideLengths = tuple(new_list)\n",
    "        return sideLengths\n",
    "    \n",
    "    # This method allows to return the perimeter of the polygon\n",
    "    def perimeter(pol): \n",
    "        perimeter = 0\n",
    "        for lenght in pol.sideLenghts:\n",
    "            perimeter += lenght\n",
    "        return perimeter\n",
    "    \n",
    "    # This method allows to return the ordered list of the attribute 'sideLenghts'\n",
    "    def getOrderedSides(pol,increasing): \n",
    "        if increasing == True:\n",
    "            new_list = [element for element in pol.sideLenghts]\n",
    "            new_list.sort()\n",
    "            tuple_list = tuple(new_list)\n",
    "            return tuple_list\n",
    "        else:\n",
    "            new_list = [element for element in pol.sideLenghts]\n",
    "            new_list.sort(reverse = True)\n",
    "            tuple_list = tuple(new_list)\n",
    "            return tuple_list\n",
    "\n",
    "# End of the class definition\n",
    "\n"
   ]
  },
  {
   "cell_type": "code",
   "execution_count": 23,
   "id": "977cdd15-0dd4-40c0-8fef-4a6ca2b46f46",
   "metadata": {},
   "outputs": [
    {
     "name": "stdout",
     "output_type": "stream",
     "text": [
      "Perimeter of the polygon is: 57\n",
      "Side Lengths of the polygon in increasing order: (5, 6, 7, 8, 12, 19)\n",
      "Side Lengths of the polygon in decreasing order: (19, 12, 8, 7, 6, 5)\n"
     ]
    }
   ],
   "source": [
    "a = polygon((5,8,12,6,7,19))\n",
    "print(\"Perimeter of the polygon is: \" + str(a.perimeter()))\n",
    "print(\"Side Lengths of the polygon in increasing order: \" + str(a.getOrderedSides(increasing=True)))\n",
    "print(\"Side Lengths of the polygon in decreasing order: \" + str(a.getOrderedSides(increasing=False)))"
   ]
  },
  {
   "cell_type": "markdown",
   "id": "2d273ab8-1a57-4e0e-a7be-b28f57b374e1",
   "metadata": {},
   "source": [
    "11\\. **Class inheritance**\n"
   ]
  },
  {
   "cell_type": "code",
   "execution_count": 60,
   "id": "77634a9e-d360-4921-b9bc-e7e35ff7b8e5",
   "metadata": {},
   "outputs": [],
   "source": [
    "class rectangle(polygon): \n",
    "    \n",
    "    # The constructor here is optional, and can be inherited from the parent class if omitted\n",
    "    def __init__(rec, sides):\n",
    "        if len(sides) == 4:\n",
    "            lengthElection = []\n",
    "            for i in sides:\n",
    "                if i not in lengthElection:\n",
    "                    lengthElection.append(i)\n",
    "            if len(lengthElection) == 2:\n",
    "                rec.sideLengths = sides # a list is expected as input\n",
    "            else:\n",
    "                print(\"Creation Error: Sides that are given is not supplying rules of a rectangle\")\n",
    "        else:\n",
    "            print(\"Error: number of sides are not 4\")\n",
    "    def area(rec):\n",
    "        lengthElection = []\n",
    "        for i in rec.sideLengths:\n",
    "            if i not in lengthElection:\n",
    "                lengthElection.append(i)\n",
    "        area = lengthElection[0] * lengthElection[1]\n",
    "        return area\n",
    "        "
   ]
  },
  {
   "cell_type": "code",
   "execution_count": 63,
   "id": "97478e6d-30db-4668-9396-b4a2f6bf7121",
   "metadata": {},
   "outputs": [
    {
     "name": "stdout",
     "output_type": "stream",
     "text": [
      "Area of the rectangle: 10\n"
     ]
    }
   ],
   "source": [
    "b = rectangle((5,2,2,5))    \n",
    "\n",
    "b_area = b.area()\n",
    "print(\"Area of the rectangle: \" + str(b_area))"
   ]
  }
 ],
 "metadata": {
  "kernelspec": {
   "display_name": "Python 3 (ipykernel)",
   "language": "python",
   "name": "python3"
  },
  "language_info": {
   "codemirror_mode": {
    "name": "ipython",
    "version": 3
   },
   "file_extension": ".py",
   "mimetype": "text/x-python",
   "name": "python",
   "nbconvert_exporter": "python",
   "pygments_lexer": "ipython3",
   "version": "3.9.12"
  }
 },
 "nbformat": 4,
 "nbformat_minor": 5
}
