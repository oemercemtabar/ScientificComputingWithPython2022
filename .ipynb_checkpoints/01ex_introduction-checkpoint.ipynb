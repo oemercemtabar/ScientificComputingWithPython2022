{
 "cells": [
  {
   "cell_type": "markdown",
   "metadata": {},
   "source": [
    "You can solve these exercises in the room or at home. For this week, and the next 3 weeks, exercises have to be solved by creating a dedicated `.py` file (or files) called `01ex_introduction.py`.\n",
    "\n",
    "In case you need multiple files, name them `01ex_introduction_es01.py`, `01ex_introduction_es02.py` and so on. \n",
    "\n",
    "The exercises need to run without errors in `python3`."
   ]
  },
  {
   "cell_type": "markdown",
   "metadata": {},
   "source": [
    "1\\. **The HelloWorld replacement**\n",
    "\n",
    "a) Write a program that:\n",
    "- prints the numbers from 1 to 100\n",
    "- but for multiples of three print \"`Hello`\" instead of the number and for the multiples of five print \"`World`\"\n",
    "- for numbers which are multiples of both three and five print \"`HelloWorld`\".\n",
    "\n",
    "b) Put the result in a tuple and substitute \"`Hello`\" with \"`Python`\" and \"`World`\" with \"`Works`\"."
   ]
  },
  {
   "cell_type": "code",
   "execution_count": 2,
   "metadata": {},
   "outputs": [
    {
     "name": "stdout",
     "output_type": "stream",
     "text": [
      "1\n",
      "2\n",
      "Hello\n",
      "4\n",
      "World\n",
      "Hello\n",
      "7\n",
      "8\n",
      "Hello\n",
      "World\n",
      "11\n",
      "Hello\n",
      "13\n",
      "14\n",
      "HelloWorld\n",
      "16\n",
      "17\n",
      "Hello\n",
      "19\n",
      "World\n",
      "Hello\n",
      "22\n",
      "23\n",
      "Hello\n",
      "World\n",
      "26\n",
      "Hello\n",
      "28\n",
      "29\n",
      "HelloWorld\n",
      "31\n",
      "32\n",
      "Hello\n",
      "34\n",
      "World\n",
      "Hello\n",
      "37\n",
      "38\n",
      "Hello\n",
      "World\n",
      "41\n",
      "Hello\n",
      "43\n",
      "44\n",
      "HelloWorld\n",
      "46\n",
      "47\n",
      "Hello\n",
      "49\n",
      "World\n",
      "Hello\n",
      "52\n",
      "53\n",
      "Hello\n",
      "World\n",
      "56\n",
      "Hello\n",
      "58\n",
      "59\n",
      "HelloWorld\n",
      "61\n",
      "62\n",
      "Hello\n",
      "64\n",
      "World\n",
      "Hello\n",
      "67\n",
      "68\n",
      "Hello\n",
      "World\n",
      "71\n",
      "Hello\n",
      "73\n",
      "74\n",
      "HelloWorld\n",
      "76\n",
      "77\n",
      "Hello\n",
      "79\n",
      "World\n",
      "Hello\n",
      "82\n",
      "83\n",
      "Hello\n",
      "World\n",
      "86\n",
      "Hello\n",
      "88\n",
      "89\n",
      "HelloWorld\n",
      "91\n",
      "92\n",
      "Hello\n",
      "94\n",
      "World\n",
      "Hello\n",
      "97\n",
      "98\n",
      "Hello\n",
      "World\n"
     ]
    }
   ],
   "source": [
    "Collection = []\n",
    "for i in range(1,101):\n",
    "    if i % 3 == 0 and i % 5 == 0:\n",
    "        print(\"HelloWorld\")\n",
    "        Collection.append(\"HelloWorld\")\n",
    "    elif i % 3 == 0:\n",
    "        print(\"Hello\")\n",
    "        Collection.append(\"Hello\")\n",
    "    elif i % 5 == 0:\n",
    "        print(\"World\")\n",
    "        Collection.append(\"World\")\n",
    "    else:\n",
    "        print(i)\n",
    "        Collection.append(i)\n",
    "#print(Collection)\n",
    "    "
   ]
  },
  {
   "cell_type": "code",
   "execution_count": 3,
   "metadata": {},
   "outputs": [
    {
     "name": "stdout",
     "output_type": "stream",
     "text": [
      "(1, 2, 'Python', 4, 'Works', 'Python', 7, 8, 'Python', 'Works', 11, 'Python', 13, 14, 'PythonWorks', 16, 17, 'Python', 19, 'Works', 'Python', 22, 23, 'Python', 'Works', 26, 'Python', 28, 29, 'PythonWorks', 31, 32, 'Python', 34, 'Works', 'Python', 37, 38, 'Python', 'Works', 41, 'Python', 43, 44, 'PythonWorks', 46, 47, 'Python', 49, 'Works', 'Python', 52, 53, 'Python', 'Works', 56, 'Python', 58, 59, 'PythonWorks', 61, 62, 'Python', 64, 'Works', 'Python', 67, 68, 'Python', 'Works', 71, 'Python', 73, 74, 'PythonWorks', 76, 77, 'Python', 79, 'Works', 'Python', 82, 83, 'Python', 'Works', 86, 'Python', 88, 89, 'PythonWorks', 91, 92, 'Python', 94, 'Works', 'Python', 97, 98, 'Python', 'Works')\n"
     ]
    }
   ],
   "source": [
    "for i in range(len(Collection)):\n",
    "    if Collection[i] == \"HelloWorld\":\n",
    "        Collection[i] = \"PythonWorks\"\n",
    "    elif Collection[i] == \"Hello\":\n",
    "        Collection[i] = \"Python\"\n",
    "    elif Collection[i] == \"World\":\n",
    "        Collection[i] = \"Works\"\n",
    "    else:\n",
    "        Collection[i] = Collection[i]\n",
    "tupleList = tuple(Collection)\n",
    "print(tupleList)\n",
    "        \n",
    "    "
   ]
  },
  {
   "cell_type": "markdown",
   "metadata": {},
   "source": [
    "2\\. **The swap**\n",
    "\n",
    "Write a program that swaps the values of two input variables *x* and *y* from command line (whatever the type).\n",
    "\n",
    "Try to do that without using a temporary variable, exploiting the Python syntax."
   ]
  },
  {
   "cell_type": "code",
   "execution_count": 1,
   "metadata": {},
   "outputs": [
    {
     "name": "stdout",
     "output_type": "stream",
     "text": [
      "Please enter the first input variable: OmerCemTabar\n",
      "Pleaser enter the second input variable: 4.89231\n",
      "Before the swap operation x was: OmerCemTabar, after the swap operation the new value of x is: 4.89231\n",
      "Before the swap operation x was: 4.89231, after the swap operation the new value of x is: OmerCemTabar\n"
     ]
    }
   ],
   "source": [
    "x = input(\"Please enter the first input variable: \")\n",
    "y = input(\"Pleaser enter the second input variable: \")\n",
    "\n",
    "x_before = x\n",
    "y_before = y\n",
    "\n",
    "x,y = y,x\n",
    "print(\"Before the swap operation x was: \" + x_before + \", after the swap operation the new value of x is: \" + x)\n",
    "print(\"Before the swap operation x was: \" + y_before + \", after the swap operation the new value of x is: \" + y)\n"
   ]
  },
  {
   "cell_type": "markdown",
   "metadata": {},
   "source": [
    "3\\. **Computing the distance**\n",
    "\n",
    "Write a function that calculates and returns the euclidean distance between two points *u* and *v* in a 2D space, where *u* and *v* are both 2-tuples *(x,y)*.\n",
    "\n",
    "Example: if *u=(3,0)* and *v=(0,4)*, the function should return 5.\n",
    "\n",
    "*Hint:* in order to compute the square root, import the `math` library with `import math` and use `math.sqrt()`."
   ]
  },
  {
   "cell_type": "code",
   "execution_count": 7,
   "metadata": {},
   "outputs": [],
   "source": [
    "import math"
   ]
  },
  {
   "cell_type": "code",
   "execution_count": 10,
   "metadata": {},
   "outputs": [
    {
     "name": "stdout",
     "output_type": "stream",
     "text": [
      "Please enter the x-value of the first input variable:3\n",
      "Please enter the y-value of the first input variable:0\n",
      "Please enter the x-value of the second input variable:0\n",
      "Please enter the y-value of the second input variable:4\n",
      "Euclidian Distance between two points : 5\n"
     ]
    }
   ],
   "source": [
    "def EuclidianDistance(u,v):\n",
    "    result = math.sqrt(((v[0]-u[0])**2)+((v[1]-u[1])**2))\n",
    "    return int(result)\n",
    "a = input(\"Please enter the x-value of the first input variable:\")\n",
    "b = input(\"Please enter the y-value of the first input variable:\")\n",
    "c = input(\"Please enter the x-value of the second input variable:\")\n",
    "d = input(\"Please enter the y-value of the second input variable:\")\n",
    "u = (int(a),int(b))\n",
    "v = (int(c),int(d))\n",
    "returnedResult = EuclidianDistance(u,v)\n",
    "print(\"Euclidian Distance between two points : \" + str(returnedResult))\n",
    "    \n",
    "    "
   ]
  },
  {
   "cell_type": "markdown",
   "metadata": {},
   "source": [
    "4\\. **Counting letters**\n",
    "\n",
    "Write a program that calculates the number of times each character occurs in a given string. Ignore differences in capitalization.\n",
    "\n",
    "The strings are in the cell below."
   ]
  },
  {
   "cell_type": "code",
   "execution_count": 11,
   "metadata": {},
   "outputs": [],
   "source": [
    "s1 = \"Write a program that prints the numbers from 1 to 100. \\\n",
    "But for multiples of three print Hello instead of the number and for the multiples of five print World. \\\n",
    "For numbers which are multiples of both three and five print HelloWorld.\"\n",
    "s2 = \"The quick brown fox jumps over the lazy dog\""
   ]
  },
  {
   "cell_type": "code",
   "execution_count": 12,
   "metadata": {},
   "outputs": [
    {
     "name": "stdout",
     "output_type": "stream",
     "text": [
      "Occurences in the first sentence can be shown as follows:\n",
      "Number of occurence of the character 'w' occured 4 time(s) in the sentence.\n",
      "Number of occurence of the character 'r' occured 19 time(s) in the sentence.\n",
      "Number of occurence of the character 'i' occured 12 time(s) in the sentence.\n",
      "Number of occurence of the character 't' occured 19 time(s) in the sentence.\n",
      "Number of occurence of the character 'e' occured 20 time(s) in the sentence.\n",
      "Number of occurence of the character ' ' occured 41 time(s) in the sentence.\n",
      "Number of occurence of the character 'a' occured 7 time(s) in the sentence.\n",
      "Number of occurence of the character 'p' occured 8 time(s) in the sentence.\n",
      "Number of occurence of the character 'o' occured 15 time(s) in the sentence.\n",
      "Number of occurence of the character 'g' occured 1 time(s) in the sentence.\n",
      "Number of occurence of the character 'm' occured 8 time(s) in the sentence.\n",
      "Number of occurence of the character 'h' occured 11 time(s) in the sentence.\n",
      "Number of occurence of the character 'n' occured 10 time(s) in the sentence.\n",
      "Number of occurence of the character 's' occured 7 time(s) in the sentence.\n",
      "Number of occurence of the character 'u' occured 7 time(s) in the sentence.\n",
      "Number of occurence of the character 'b' occured 5 time(s) in the sentence.\n",
      "Number of occurence of the character 'f' occured 10 time(s) in the sentence.\n",
      "Number of occurence of the character '1' occured 2 time(s) in the sentence.\n",
      "Number of occurence of the character '0' occured 2 time(s) in the sentence.\n",
      "Number of occurence of the character '.' occured 3 time(s) in the sentence.\n",
      "Number of occurence of the character 'l' occured 12 time(s) in the sentence.\n",
      "Number of occurence of the character 'd' occured 5 time(s) in the sentence.\n",
      "Number of occurence of the character 'v' occured 2 time(s) in the sentence.\n",
      "Number of occurence of the character 'c' occured 1 time(s) in the sentence.\n",
      "\n",
      "Occurences in the second sentence can be shown as follows:\n",
      "Number of occurence of the character 't' occured 2 time(s) in the sentence.\n",
      "Number of occurence of the character 'h' occured 2 time(s) in the sentence.\n",
      "Number of occurence of the character 'e' occured 3 time(s) in the sentence.\n",
      "Number of occurence of the character ' ' occured 8 time(s) in the sentence.\n",
      "Number of occurence of the character 'q' occured 1 time(s) in the sentence.\n",
      "Number of occurence of the character 'u' occured 2 time(s) in the sentence.\n",
      "Number of occurence of the character 'i' occured 1 time(s) in the sentence.\n",
      "Number of occurence of the character 'c' occured 1 time(s) in the sentence.\n",
      "Number of occurence of the character 'k' occured 1 time(s) in the sentence.\n",
      "Number of occurence of the character 'b' occured 1 time(s) in the sentence.\n",
      "Number of occurence of the character 'r' occured 2 time(s) in the sentence.\n",
      "Number of occurence of the character 'o' occured 4 time(s) in the sentence.\n",
      "Number of occurence of the character 'w' occured 1 time(s) in the sentence.\n",
      "Number of occurence of the character 'n' occured 1 time(s) in the sentence.\n",
      "Number of occurence of the character 'f' occured 1 time(s) in the sentence.\n",
      "Number of occurence of the character 'x' occured 1 time(s) in the sentence.\n",
      "Number of occurence of the character 'j' occured 1 time(s) in the sentence.\n",
      "Number of occurence of the character 'm' occured 1 time(s) in the sentence.\n",
      "Number of occurence of the character 'p' occured 1 time(s) in the sentence.\n",
      "Number of occurence of the character 's' occured 1 time(s) in the sentence.\n",
      "Number of occurence of the character 'v' occured 1 time(s) in the sentence.\n",
      "Number of occurence of the character 'l' occured 1 time(s) in the sentence.\n",
      "Number of occurence of the character 'a' occured 1 time(s) in the sentence.\n",
      "Number of occurence of the character 'z' occured 1 time(s) in the sentence.\n",
      "Number of occurence of the character 'y' occured 1 time(s) in the sentence.\n",
      "Number of occurence of the character 'd' occured 1 time(s) in the sentence.\n",
      "Number of occurence of the character 'g' occured 1 time(s) in the sentence.\n"
     ]
    }
   ],
   "source": [
    "def CountCharacterOccurencesInSentence(s):\n",
    "    OccuredList = []\n",
    "    OccurenceDictionary = {}\n",
    "    s = s.lower()\n",
    "    for i in range(len(s)):\n",
    "        if s[i] not in OccuredList:\n",
    "            OccuredList.append(s[i])\n",
    "            OccurenceDictionary[s[i]] = 1\n",
    "        else:\n",
    "            \n",
    "            OccurenceDictionary[s[i]] = OccurenceDictionary[s[i]] + 1\n",
    "    for i in OccurenceDictionary.keys():\n",
    "        print(\"Number of occurence of the character '\" + i + \"' occured \" + str(OccurenceDictionary[i]) + \" time(s) in the sentence.\")\n",
    "        \n",
    "print(\"Occurences in the first sentence can be shown as follows:\")\n",
    "CountCharacterOccurencesInSentence(s1)\n",
    "print(\"\")\n",
    "print(\"Occurences in the second sentence can be shown as follows:\")\n",
    "CountCharacterOccurencesInSentence(s2)"
   ]
  },
  {
   "cell_type": "markdown",
   "metadata": {},
   "source": [
    "5\\. **Isolating the unique**\n",
    "\n",
    "Write a program that determines and counts the unique numbers in the list:"
   ]
  },
  {
   "cell_type": "code",
   "execution_count": 13,
   "metadata": {},
   "outputs": [],
   "source": [
    "l = [36, 45, 58, 3, 74, 96, 64, 45, 31, 10, 24, 19, 33, 86, 99, 18, 63, 70, 85,\n",
    " 85, 63, 47, 56, 42, 70, 84, 88, 55, 20, 54, 8, 56, 51, 79, 81, 57, 37, 91,\n",
    " 1, 84, 84, 36, 66, 9, 89, 50, 42, 91, 50, 95, 90, 98, 39, 16, 82, 31, 92, 41,\n",
    " 45, 30, 66, 70, 34, 85, 94, 5, 3, 36, 72, 91, 84, 34, 87, 75, 53, 51, 20, 89, 51, 20]"
   ]
  },
  {
   "cell_type": "markdown",
   "metadata": {},
   "source": [
    "Do the same exploiting only the Python data structures."
   ]
  },
  {
   "cell_type": "code",
   "execution_count": 14,
   "metadata": {},
   "outputs": [
    {
     "name": "stdout",
     "output_type": "stream",
     "text": [
      "There are 54 unique numbers which are: [36, 45, 58, 3, 74, 96, 64, 31, 10, 24, 19, 33, 86, 99, 18, 63, 70, 85, 47, 56, 42, 84, 88, 55, 20, 54, 8, 51, 79, 81, 57, 37, 91, 1, 66, 9, 89, 50, 95, 90, 98, 39, 16, 82, 92, 41, 30, 34, 94, 5, 72, 87, 75, 53]\n"
     ]
    }
   ],
   "source": [
    "def CountUniqueNumbers(mixedList):\n",
    "    Unique = []\n",
    "    for element in mixedList:\n",
    "        if element not in Unique:\n",
    "            Unique.append(element)\n",
    "    print(\"There are \" + str(len(Unique)) + \" unique numbers which are: \" + str(Unique))\n",
    "\n",
    "CountUniqueNumbers(l)"
   ]
  },
  {
   "cell_type": "markdown",
   "metadata": {},
   "source": [
    "6\\. **Casting**\n",
    "\n",
    "Write a program that:\n",
    "* reads from command line two variables, that can be either `int`, `float`, or `str`.\n",
    "* use the `try`/`except` expressions to perform the addition of these two variables, only if possible\n",
    "* and print the result without making the code crash for all the `int`/`float`/`str` input combinations."
   ]
  },
  {
   "cell_type": "code",
   "execution_count": 26,
   "metadata": {},
   "outputs": [
    {
     "name": "stdout",
     "output_type": "stream",
     "text": [
      "Please enter the first value for addition: 4.923423\n",
      "Please enter the second value for addition: 7.42342\n",
      "First input is a float!\n",
      "Second input is also a float!\n",
      "Addition operation will result in a float number: 12.346843\n"
     ]
    }
   ],
   "source": [
    "a = input(\"Please enter the first value for addition: \")\n",
    "b = input(\"Please enter the second value for addition: \")\n",
    "\n",
    "try:\n",
    "    #Check whether the input 'a' is float/int\n",
    "    #Since both int and float can be converted into float\n",
    "    x = float(a)\n",
    "    if a == str(float(a)):\n",
    "        \n",
    "        print(\"First input is a float!\")\n",
    "        try:\n",
    "                \n",
    "            #Check whether the input 'a' is float/int\n",
    "            #Since both int and float can be converted into float\n",
    "            y = float(b)\n",
    "            if b == str(float(b)):\n",
    "                print(\"Second input is also a float!\")\n",
    "                print(\"Addition operation will result in a float number: \" + str(float(a)+float(b)))\n",
    "            else:\n",
    "                print(\"Second input is an integer!\")\n",
    "                print(\"Addition operation will result in a float number: \" + str(float(a)+int(b)))\n",
    "\n",
    "        except:\n",
    "            print(\"Second input is a string!\")\n",
    "            #Input 'b' is not a float or int, hence it is string\n",
    "            #You cannot add float with string\n",
    "            print(\"You cannot do the addition operation between float and string!!!!\")\n",
    "    else:\n",
    "        print(\"First input is an integer!\")\n",
    "        try:\n",
    "           #Check whether the input 'b' is float/int\n",
    "           #Since both int and float can be converted into float\n",
    "            y = float(b)\n",
    "            if b == str(float(b)):\n",
    "                print(\"Second input is a float!\")\n",
    "                print(\"Addition operation will result in a float number: \" + str(float(a)+float(b)))\n",
    "            else:\n",
    "                print(\"Second input is also an integer!\")\n",
    "                print(\"Addition operation will result in a integer number: \" + str(int(a)+int(b)))\n",
    "\n",
    "        except:\n",
    "            #Input 'b' is not a float or int, hence it is string\n",
    "            #You cannot add integer with string\n",
    "            print(\"Second input is a string!\")\n",
    "            print(\"You cannot do the addition operation between integer and string!!!!\")\n",
    "\n",
    "\n",
    "except:\n",
    "    #Input 'a' is not a float, hence it is string\n",
    "    print(\"First input is a string!\")\n",
    "    try:\n",
    "        #Check whether the input 'b' is float/int\n",
    "        #Since both int and float can be converted into float\n",
    "        y = float(b)\n",
    "        if b == str(float(b)):\n",
    "            print(\"Second input is a float!\")\n",
    "            print(\"You cannot do the addition operation between a string an a float!!!!\")\n",
    "        else:\n",
    "            print(\"Second input is an integer!\")\n",
    "            print(\"You cannot do the addition operation between a string and an integer!!!!\")\n",
    "\n",
    "\n",
    "    except:\n",
    "        print(\"Second input is also a string!\")\n",
    "        #Input 'b' is not a float or int, hence it is string\n",
    "        #Concatanate the string then\n",
    "        print(\"Both of the inputs are strings hence result will be concatanated as follows: \" + str(a+b) )           \n"
   ]
  },
  {
   "cell_type": "markdown",
   "metadata": {},
   "source": [
    "7\\. **Cubes**\n",
    "\n",
    "Create a list of the cubes of *x* for *x* in *[0, 10]* using:\n",
    "\n",
    "a) a for loop\n",
    "\n",
    "b) a list comprehension"
   ]
  },
  {
   "cell_type": "code",
   "execution_count": 27,
   "metadata": {},
   "outputs": [
    {
     "name": "stdout",
     "output_type": "stream",
     "text": [
      "[0, 1, 8, 27, 64, 125, 216, 343, 512, 729, 1000]\n"
     ]
    }
   ],
   "source": [
    "cubesListwithLoop = []\n",
    "for i in range(0,11):\n",
    "    cubesListwithLoop.append(i**3)\n",
    "print(cubesListwithLoop)\n",
    "    "
   ]
  },
  {
   "cell_type": "code",
   "execution_count": 28,
   "metadata": {},
   "outputs": [
    {
     "name": "stdout",
     "output_type": "stream",
     "text": [
      "[0, 1, 8, 27, 64, 125, 216, 343, 512, 729, 1000]\n"
     ]
    }
   ],
   "source": [
    "cubesListwithComprehension = [i**3 for i in range(0,11)]\n",
    "print(cubesListwithComprehension)"
   ]
  },
  {
   "cell_type": "markdown",
   "metadata": {},
   "source": [
    "8\\. **List comprehension**\n",
    "\n",
    "Write, using the list comprehension, a single-line expression that gets the same result as the code in the cell below."
   ]
  },
  {
   "cell_type": "code",
   "execution_count": 29,
   "metadata": {},
   "outputs": [
    {
     "name": "stdout",
     "output_type": "stream",
     "text": [
      "[(0, 0), (0, 1), (0, 2), (0, 3), (1, 0), (1, 1), (1, 2), (1, 3), (2, 0), (2, 1), (2, 2), (2, 3)]\n"
     ]
    }
   ],
   "source": [
    "a = []\n",
    "for i in range(3):\n",
    "    for j in range(4):\n",
    "        a.append((i, j))\n",
    "print(a)"
   ]
  },
  {
   "cell_type": "code",
   "execution_count": 30,
   "metadata": {},
   "outputs": [
    {
     "name": "stdout",
     "output_type": "stream",
     "text": [
      "[(0, 0), (0, 1), (0, 2), (0, 3), (1, 0), (1, 1), (1, 2), (1, 3), (2, 0), (2, 1), (2, 2), (2, 3)]\n"
     ]
    }
   ],
   "source": [
    "ListComprehension = [(x,y) for x in range(3)  for y in range(4)]\n",
    "print(ListComprehension)"
   ]
  },
  {
   "cell_type": "markdown",
   "metadata": {},
   "source": [
    "9\\. **Nested list comprehension**\n",
    "\n",
    "> A Pythagorean triple is an integer solution to the Pythagorean theorem $a^2+b^2=c^2$. The first Pythagorean triple is (3, 4, 5).\n",
    "\n",
    "Find and put in a tuple all unique Pythagorean triples for the positive integers $a$, $b$ and $c$ with $c < 100$."
   ]
  },
  {
   "cell_type": "code",
   "execution_count": 31,
   "metadata": {},
   "outputs": [
    {
     "name": "stdout",
     "output_type": "stream",
     "text": [
      "[(3, 4, 5), (5, 12, 13), (6, 8, 10), (7, 24, 25), (8, 15, 17), (9, 12, 15), (9, 40, 41), (10, 24, 26), (11, 60, 61), (12, 16, 20), (12, 35, 37), (13, 84, 85), (14, 48, 50), (15, 20, 25), (15, 36, 39), (16, 30, 34), (16, 63, 65), (18, 24, 30), (18, 80, 82), (20, 21, 29), (20, 48, 52), (21, 28, 35), (21, 72, 75), (24, 32, 40), (24, 45, 51), (24, 70, 74), (25, 60, 65), (27, 36, 45), (28, 45, 53), (30, 40, 50), (30, 72, 78), (32, 60, 68), (33, 44, 55), (33, 56, 65), (35, 84, 91), (36, 48, 60), (36, 77, 85), (39, 52, 65), (39, 80, 89), (40, 42, 58), (40, 75, 85), (42, 56, 70), (45, 60, 75), (48, 55, 73), (48, 64, 80), (51, 68, 85), (54, 72, 90), (57, 76, 95), (60, 63, 87), (65, 72, 97)]\n"
     ]
    }
   ],
   "source": [
    "PythagoreanTriple = [d for d in [(x,y,z) for x in range(1,100) for y in range(1,100) for z in range(0,100)if x**2 + y**2 == z**2 and x < z and y < z] if d[0] < d[1]]\n",
    "print(PythagoreanTriple)"
   ]
  },
  {
   "cell_type": "markdown",
   "metadata": {},
   "source": [
    "10\\. **Normalization of a N-dimensional vector**\n",
    "\n",
    "Write a program that takes an N-dimensional vector, e.g. a variable-length tuple of numbers, and normalizes it to one (in such a way that the squared sum of all the entries is equal to 1)."
   ]
  },
  {
   "cell_type": "code",
   "execution_count": 3,
   "metadata": {},
   "outputs": [
    {
     "name": "stdout",
     "output_type": "stream",
     "text": [
      "After the normalization process we retrieved norms as follows:\n",
      "(0.1359228088139356, 0.17646119039002164, 0.07342090780808155, 0.10191073015412346, 0.16328307873216086, 0.14395518163396503, 0.03087443302698814, 0.05359098740863389, 0.17382556805844948, 0.08772857189375899, 0.03187847962949182, 0.1778417544684642, 0.1853721039872418, 0.01857486214631807, 0.13404022143424119, 0.03840478254576574, 0.11973255734856376, 0.0006275291265647996, 0.1709389340762514, 0.17771624864315125, 0.15650576416526102, 0.1615259971777794, 0.15261508358055928, 0.03137645632823998, 0.08697553694188123, 0.16114947970184054, 0.10580141073882522, 0.11847749909543416, 0.1709389340762514, 0.1809794001012882, 0.15161103697805559, 0.018700367971631028, 0.07542900101308891, 0.05333997575800797, 0.012048559230044152, 0.13366370395830232, 0.00037651747593887977, 0.0904897000506441, 0.1133317602576028, 0.07869215247122587, 0.0936273456834681, 0.0366477009913843, 0.059489761198343004, 0.04706468449235997, 0.15801183406901653, 0.07756260004340923, 0.01543721651349407, 0.018198344670379188, 0.017445309718501428, 0.021838013604455028, 0.12701189521671544, 0.07630754179027964, 0.09651397966566617, 0.1055503990881993, 0.07680956509153147, 0.1368013495911263, 0.15776082241839062, 0.044680073811413736, 0.1547486826108796, 0.17708871951658645, 0.03702421846732318, 0.059113243722404125, 0.14370416998333913, 0.01882587379694399, 0.15161103697805559, 0.04480557963672669, 0.11345726608291577, 0.025979705839782704, 0.04304849808234525, 0.10078117772630682, 0.08421440878499611, 0.05045334177580989, 0.06375695925898364, 0.01581373398943295, 0.11722244084230457, 0.081453280628111, 0.15324261270712405, 0.008910913597220155, 0.12738841269265433, 0.15776082241839062, 0.17746523699252534, 0.08070024567623323)\n",
      "After the normalization process, summation of the norms are: 0.9999999999999999\n"
     ]
    }
   ],
   "source": [
    "import math as m\n",
    "vector = (1083, 1406, 585, 812, 1301, 1147, 246, 427, 1385, 699, 254, 1417, 1477, 148, 1068, 306, 954, 5, 1362, 1416, 1247, 1287, 1216, 250, 693, 1284, 843, 944, 1362, 1442, 1208, 149, 601, 425, 96, 1065, 3, 721, 903, 627, 746, 292, 474, 375, 1259, 618, 123, 145, 139, 174, 1012, 608, 769, 841, 612, 1090, 1257, 356, 1233, 1411, 295, 471, 1145, 150, 1208, 357, 904, 207, 343, 803, 671, 402, 508, 126, 934, 649, 1221, 71, 1015, 1257, 1414, 643)\n",
    "v = list(vector)\n",
    "squared_summation = 0\n",
    "\n",
    "for i in range(0,len(v)):\n",
    "    squared_summation += v[i]**2\n",
    "    \n",
    "rooted_squared_sum = m.sqrt(squared_summation)\n",
    "\n",
    "for i in range(0,len(v)):\n",
    "    v[i] = v[i] / rooted_squared_sum\n",
    "    \n",
    "vector = tuple(v)\n",
    "print(\"After the normalization process we retrieved norms as follows:\")\n",
    "print(vector)\n",
    "    \n",
    "probabilistic_sum = 0\n",
    "for i in range(0, len(vector)):\n",
    "    probabilistic_sum += vector[i]**2\n",
    "\n",
    "print(\"After the normalization process, summation of the norms are: \" + str(probabilistic_sum))"
   ]
  },
  {
   "cell_type": "markdown",
   "metadata": {},
   "source": [
    "11\\. **The Fibonacci sequence**\n",
    "\n",
    "Calculate the first 20 numbers of the [Fibonacci sequence](https://en.wikipedia.org/wiki/Fibonacci_number) using only `for` or `while` loops."
   ]
  },
  {
   "cell_type": "code",
   "execution_count": 33,
   "metadata": {},
   "outputs": [
    {
     "name": "stdout",
     "output_type": "stream",
     "text": [
      "[0, 1, 1, 2, 3, 5, 8, 13, 21, 34, 55, 89, 144, 233, 377, 610, 987, 1597, 2584, 4181]\n"
     ]
    }
   ],
   "source": [
    "FibonacciNumbers = []\n",
    "counter = 0\n",
    "while counter < 20:\n",
    "    if counter == 0:\n",
    "        FibonacciNumbers.append(counter)\n",
    "        counter += 1\n",
    "    elif counter == 1:\n",
    "        FibonacciNumbers.append(counter)\n",
    "        counter += 1\n",
    "    else:\n",
    "        FibonacciNumbers.append(FibonacciNumbers[counter-2] + FibonacciNumbers[counter-1])\n",
    "        counter += 1\n",
    "print(FibonacciNumbers)\n",
    "\n"
   ]
  }
 ],
 "metadata": {
  "kernelspec": {
   "display_name": "Python 3 (ipykernel)",
   "language": "python",
   "name": "python3"
  },
  "language_info": {
   "codemirror_mode": {
    "name": "ipython",
    "version": 3
   },
   "file_extension": ".py",
   "mimetype": "text/x-python",
   "name": "python",
   "nbconvert_exporter": "python",
   "pygments_lexer": "ipython3",
   "version": "3.9.12"
  }
 },
 "nbformat": 4,
 "nbformat_minor": 4
}
